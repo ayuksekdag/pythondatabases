{
 "cells": [
  {
   "cell_type": "code",
   "execution_count": 1,
   "metadata": {},
   "outputs": [],
   "source": [
    "import sqlite3 as sq"
   ]
  },
  {
   "cell_type": "code",
   "execution_count": 2,
   "metadata": {},
   "outputs": [],
   "source": [
    "connect= sq.connect('movies.db')"
   ]
  },
  {
   "cell_type": "code",
   "execution_count": 3,
   "metadata": {},
   "outputs": [],
   "source": [
    "cursor = connect.cursor()"
   ]
  },
  {
   "cell_type": "code",
   "execution_count": null,
   "metadata": {},
   "outputs": [],
   "source": [
    "cursor.execute('''create table sample (name text, aantal int)''')"
   ]
  },
  {
   "cell_type": "code",
   "execution_count": 13,
   "metadata": {},
   "outputs": [
    {
     "data": {
      "text/plain": [
       "<sqlite3.Cursor at 0x110955b90>"
      ]
     },
     "execution_count": 13,
     "metadata": {},
     "output_type": "execute_result"
    }
   ],
   "source": [
    "waardes = ('AI',47)\n",
    "cursor.execute('''insert into sample values (?,?)''', waardes)"
   ]
  },
  {
   "cell_type": "code",
   "execution_count": 16,
   "metadata": {},
   "outputs": [
    {
     "name": "stdout",
     "output_type": "stream",
     "text": [
      "[('Ali Ihsan', 48)]\n"
     ]
    }
   ],
   "source": [
    "cursor.execute('''select * from sample''')\n",
    "res = cursor.fetchall()\n",
    "print(res)"
   ]
  },
  {
   "cell_type": "code",
   "execution_count": 36,
   "metadata": {},
   "outputs": [
    {
     "data": {
      "text/plain": [
       "<sqlite3.Cursor at 0x10c8f7420>"
      ]
     },
     "execution_count": 36,
     "metadata": {},
     "output_type": "execute_result"
    }
   ],
   "source": [
    "waardes =(\n",
    "(2021,'Ocak - January','13.4'),\n",
    "(2021,'Şubat - February','14.1'),\n",
    "(2021,'Mart - March','13.1'),\n",
    "(2021,'Nisan - April','12.9'),\n",
    "(2021,'Mayıs - May','12.4'),\n",
    "(2021,'Haziran - June','10.4'),\n",
    "(2021,'Temmuz - July','12.1'),\n",
    "(2021,'Ağustos - August','12.0'),\n",
    "(2021,'Eylül - September','11.1'),\n",
    "(2021,'Ekim - October','10.7'),\n",
    "(2021,'Kasım - November','10.9'),\n",
    "(2021,'Aralık - December','11.3')\n",
    " )\n",
    "cursor.execute('''drop table if exists issizlik''')\n",
    "cursor.execute('''create table issizlik (yil text, ay text, oran real)''')"
   ]
  },
  {
   "cell_type": "code",
   "execution_count": 37,
   "metadata": {},
   "outputs": [
    {
     "data": {
      "text/plain": [
       "<sqlite3.Cursor at 0x10c8f7420>"
      ]
     },
     "execution_count": 37,
     "metadata": {},
     "output_type": "execute_result"
    }
   ],
   "source": [
    "cursor.executemany('''insert into issizlik values (?,?,?)''',waardes)"
   ]
  },
  {
   "cell_type": "code",
   "execution_count": 60,
   "metadata": {},
   "outputs": [
    {
     "name": "stdout",
     "output_type": "stream",
     "text": [
      "[('2021', 'Ocak - January', 13.4), ('2021', 'Şubat - February', 14.1), ('2021', 'Mart - March', 13.1), ('2021', 'Nisan - April', 12.9), ('2021', 'Mayıs - May', 12.4), ('2021', 'Haziran - June', 10.4), ('2021', 'Temmuz - July', 12.1), ('2021', 'Ağustos - August', 12.0), ('2021', 'Eylül - September', 11.1), ('2021', 'Ekim - October', 10.7), ('2021', 'Kasım - November', 10.9), ('2021', 'Aralık - December', 11.3)]\n"
     ]
    }
   ],
   "source": [
    "cursor.execute('''select * from issizlik''')\n",
    "res = cursor.fetchall()\n",
    "print(res)\n",
    "l = list(res)"
   ]
  },
  {
   "cell_type": "code",
   "execution_count": 68,
   "metadata": {},
   "outputs": [
    {
     "name": "stdout",
     "output_type": "stream",
     "text": [
      "[('2021', 'Ocak - January', 13.4), ('2021', 'Şubat - February', 14.1), ('2021', 'Mart - March', 13.1), ('2021', 'Nisan - April', 12.9), ('2021', 'Mayıs - May', 12.4), ('2021', 'Haziran - June', 10.4), ('2021', 'Temmuz - July', 12.1), ('2021', 'Ağustos - August', 12.0), ('2021', 'Eylül - September', 11.1), ('2021', 'Ekim - October', 10.7), ('2021', 'Kasım - November', 10.9), ('2021', 'Aralık - December', 11.3)]\n"
     ]
    },
    {
     "data": {
      "text/plain": [
       "[<matplotlib.lines.Line2D at 0x12c2121f0>]"
      ]
     },
     "execution_count": 68,
     "metadata": {},
     "output_type": "execute_result"
    },
    {
     "data": {
      "image/png": "[encoded data removed]",
      "text/plain": [
       "<Figure size 640x480 with 1 Axes>"
      ]
     },
     "metadata": {},
     "output_type": "display_data"
    }
   ],
   "source": [
    "print(l)\n",
    "import matplotlib.pyplot as plt \n",
    "\n",
    "plt.plot(l[0],l[2])"
   ]
  }
 ],
 "metadata": {
  "kernelspec": {
   "display_name": "venv_pythondb",
   "language": "python",
   "name": "python3"
  },
  "language_info": {
   "codemirror_mode": {
    "name": "ipython",
    "version": 3
   },
   "file_extension": ".py",
   "mimetype": "text/x-python",
   "name": "python",
   "nbconvert_exporter": "python",
   "pygments_lexer": "ipython3",
   "version": "3.9.2"
  },
  "orig_nbformat": 4
 },
 "nbformat": 4,
 "nbformat_minor": 2
}
