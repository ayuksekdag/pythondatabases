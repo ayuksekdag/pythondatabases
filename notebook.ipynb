{
  "cells": [
    {
      "cell_type": "code",
      "execution_count": 1,
      "metadata": {
        "id": "0PlTTMf12A3P"
      },
      "outputs": [],
      "source": [
        "import sqlite3 as sq"
      ]
    },
    {
      "cell_type": "code",
      "execution_count": 2,
      "metadata": {
        "id": "rJhPtlqt2A3S"
      },
      "outputs": [],
      "source": [
        "connect= sq.connect('movies.db')"
      ]
    },
    {
      "cell_type": "code",
      "execution_count": 3,
      "metadata": {
        "id": "X4__jJKR2A3T"
      },
      "outputs": [],
      "source": [
        "cursor = connect.cursor()"
      ]
    },
    {
      "cell_type": "code",
      "execution_count": 4,
      "metadata": {
        "id": "CL2B5E782A3U",
        "outputId": "88f5aba5-7746-475d-ca01-5f86c5b1dcfa",
        "colab": {
          "base_uri": "https://localhost:8080/"
        }
      },
      "outputs": [
        {
          "output_type": "execute_result",
          "data": {
            "text/plain": [
              "<sqlite3.Cursor at 0x7f163bc5b7c0>"
            ]
          },
          "metadata": {},
          "execution_count": 4
        }
      ],
      "source": [
        "cursor.execute('''create table sample (name text, aantal int)''')"
      ]
    },
    {
      "cell_type": "code",
      "execution_count": 5,
      "metadata": {
        "id": "rbmGV77v2A3U",
        "outputId": "1b6280da-879e-4357-df68-fb482fe0c1cd",
        "colab": {
          "base_uri": "https://localhost:8080/"
        }
      },
      "outputs": [
        {
          "output_type": "execute_result",
          "data": {
            "text/plain": [
              "<sqlite3.Cursor at 0x7f163bc5b7c0>"
            ]
          },
          "metadata": {},
          "execution_count": 5
        }
      ],
      "source": [
        "waardes = ('AI',47)\n",
        "cursor.execute('''insert into sample values (?,?)''', waardes)"
      ]
    },
    {
      "cell_type": "code",
      "execution_count": 6,
      "metadata": {
        "id": "j4SezxJt2A3V",
        "outputId": "46421b3c-e6ef-46db-ff17-c3f518f2e07e",
        "colab": {
          "base_uri": "https://localhost:8080/"
        }
      },
      "outputs": [
        {
          "output_type": "stream",
          "name": "stdout",
          "text": [
            "[('AI', 47)]\n"
          ]
        }
      ],
      "source": [
        "cursor.execute('''select * from sample''')\n",
        "res = cursor.fetchall()\n",
        "print(res)"
      ]
    },
    {
      "cell_type": "code",
      "execution_count": 7,
      "metadata": {
        "id": "pMyld5EA2A3W",
        "outputId": "ab3e68cb-75f9-49a2-ed8d-c8c55f7ffcb3",
        "colab": {
          "base_uri": "https://localhost:8080/"
        }
      },
      "outputs": [
        {
          "output_type": "execute_result",
          "data": {
            "text/plain": [
              "<sqlite3.Cursor at 0x7f163bc5b7c0>"
            ]
          },
          "metadata": {},
          "execution_count": 7
        }
      ],
      "source": [
        "waardes =(\n",
        "(2021,'Ocak - January','13.4'),\n",
        "(2021,'Şubat - February','14.1'),\n",
        "(2021,'Mart - March','13.1'),\n",
        "(2021,'Nisan - April','12.9'),\n",
        "(2021,'Mayıs - May','12.4'),\n",
        "(2021,'Haziran - June','10.4'),\n",
        "(2021,'Temmuz - July','12.1'),\n",
        "(2021,'Ağustos - August','12.0'),\n",
        "(2021,'Eylül - September','11.1'),\n",
        "(2021,'Ekim - October','10.7'),\n",
        "(2021,'Kasım - November','10.9'),\n",
        "(2021,'Aralık - December','11.3')\n",
        " )\n",
        "cursor.execute('''drop table if exists issizlik''')\n",
        "cursor.execute('''create table issizlik (yil text, ay text, oran real)''')"
      ]
    },
    {
      "cell_type": "code",
      "execution_count": 8,
      "metadata": {
        "id": "GjOfx8NK2A3X",
        "outputId": "98058018-955e-4ed5-934d-70e18bd5fd11",
        "colab": {
          "base_uri": "https://localhost:8080/"
        }
      },
      "outputs": [
        {
          "output_type": "execute_result",
          "data": {
            "text/plain": [
              "<sqlite3.Cursor at 0x7f163bc5b7c0>"
            ]
          },
          "metadata": {},
          "execution_count": 8
        }
      ],
      "source": [
        "cursor.executemany('''insert into issizlik values (?,?,?)''',waardes)"
      ]
    },
    {
      "cell_type": "code",
      "execution_count": 9,
      "metadata": {
        "id": "3HPgr7Pv2A3Y",
        "outputId": "f66ea5d9-1103-46cc-b949-6658087c3c95",
        "colab": {
          "base_uri": "https://localhost:8080/"
        }
      },
      "outputs": [
        {
          "output_type": "stream",
          "name": "stdout",
          "text": [
            "[('2021', 'Ocak - January', 13.4), ('2021', 'Şubat - February', 14.1), ('2021', 'Mart - March', 13.1), ('2021', 'Nisan - April', 12.9), ('2021', 'Mayıs - May', 12.4), ('2021', 'Haziran - June', 10.4), ('2021', 'Temmuz - July', 12.1), ('2021', 'Ağustos - August', 12.0), ('2021', 'Eylül - September', 11.1), ('2021', 'Ekim - October', 10.7), ('2021', 'Kasım - November', 10.9), ('2021', 'Aralık - December', 11.3)]\n"
          ]
        }
      ],
      "source": [
        "cursor.execute('''select * from issizlik''')\n",
        "res = cursor.fetchall()\n",
        "print(res)\n",
        "l = list(res)"
      ]
    },
    {
      "cell_type": "code",
      "execution_count": 10,
      "metadata": {
        "id": "5jL8toh52A3Z",
        "outputId": "43d6d7a0-a8dc-4451-91ac-a78c6b36d6ab",
        "colab": {
          "base_uri": "https://localhost:8080/",
          "height": 485
        }
      },
      "outputs": [
        {
          "output_type": "stream",
          "name": "stdout",
          "text": [
            "[('2021', 'Ocak - January', 13.4), ('2021', 'Şubat - February', 14.1), ('2021', 'Mart - March', 13.1), ('2021', 'Nisan - April', 12.9), ('2021', 'Mayıs - May', 12.4), ('2021', 'Haziran - June', 10.4), ('2021', 'Temmuz - July', 12.1), ('2021', 'Ağustos - August', 12.0), ('2021', 'Eylül - September', 11.1), ('2021', 'Ekim - October', 10.7), ('2021', 'Kasım - November', 10.9), ('2021', 'Aralık - December', 11.3)]\n"
          ]
        },
        {
          "output_type": "execute_result",
          "data": {
            "text/plain": [
              "[<matplotlib.lines.Line2D at 0x7f161bfb7310>]"
            ]
          },
          "metadata": {},
          "execution_count": 10
        },
        {
          "output_type": "display_data",
          "data": {
            "text/plain": [
              "<Figure size 640x480 with 1 Axes>"
            ],
            "image/png": "[encoded data removed]"
          },
          "metadata": {}
        }
      ],
      "source": [
        "print(l)\n",
        "import matplotlib.pyplot as plt \n",
        "\n",
        "plt.plot(l[0],l[2])"
      ]
    },
    {
      "cell_type": "code",
      "source": [
        "import pandas as pd\n",
        "tables = pd.read_html(\"https://en.wikipedia.org/wiki/List_of_sovereign_states_and_dependent_territories_by_birth_rate\")\n",
        "countries = tables[0]\n",
        "countries.head()"
      ],
      "metadata": {
        "id": "Y0C_jvxH2tUU",
        "outputId": "0f1b2f47-5043-49ea-b01d-53bb769a27fa",
        "colab": {
          "base_uri": "https://localhost:8080/",
          "height": 238
        }
      },
      "execution_count": 95,
      "outputs": [
        {
          "output_type": "execute_result",
          "data": {
            "text/plain": [
              "  Country/territory   WB 2018 (Rate ‰) OECD 2011 (Rate ‰)  \\\n",
              "  Country/territory Unnamed: 1_level_1 Unnamed: 2_level_1   \n",
              "0       Afghanistan               32.0               45.1   \n",
              "1           Albania               12.0               11.5   \n",
              "2           Algeria               24.0               24.8   \n",
              "3           Andorra                7.0               10.2   \n",
              "4            Angola               41.0               40.9   \n",
              "\n",
              "  CIA WF 2013 (Rate ‰) CIA WF 2014 (Rate ‰) CIA WF 2020 (Rate ‰)  \\\n",
              "    Unnamed: 3_level_1   Unnamed: 4_level_1   Unnamed: 5_level_1   \n",
              "0                39.05                38.84                 36.7   \n",
              "1                12.57                12.73                 13.0   \n",
              "2                24.25                23.99                 20.0   \n",
              "3                 8.88                 8.48                  7.0   \n",
              "4                39.16                38.97                 42.7   \n",
              "\n",
              "   PRB 2022 (Rate ‰)  \n",
              "  Unnamed: 6_level_1  \n",
              "0               36.0  \n",
              "1               10.0  \n",
              "2               22.0  \n",
              "3                6.0  \n",
              "4               39.0  "
            ],
            "text/html": [
              "\n",
              "  <div id=\"df-467c45fd-9f7d-4f1a-b14c-dcf1741f1cf1\">\n",
              "    <div class=\"colab-df-container\">\n",
              "      <div>\n",
              "<style scoped>\n",
              "    .dataframe tbody tr th:only-of-type {\n",
              "        vertical-align: middle;\n",
              "    }\n",
              "\n",
              "    .dataframe tbody tr th {\n",
              "        vertical-align: top;\n",
              "    }\n",
              "\n",
              "    .dataframe thead tr th {\n",
              "        text-align: left;\n",
              "    }\n",
              "</style>\n",
              "<table border=\"1\" class=\"dataframe\">\n",
              "  <thead>\n",
              "    <tr>\n",
              "      <th></th>\n",
              "      <th>Country/territory</th>\n",
              "      <th>WB 2018 (Rate ‰)</th>\n",
              "      <th>OECD 2011 (Rate ‰)</th>\n",
              "      <th>CIA WF 2013 (Rate ‰)</th>\n",
              "      <th>CIA WF 2014 (Rate ‰)</th>\n",
              "      <th>CIA WF 2020 (Rate ‰)</th>\n",
              "      <th>PRB 2022 (Rate ‰)</th>\n",
              "    </tr>\n",
              "    <tr>\n",
              "      <th></th>\n",
              "      <th>Country/territory</th>\n",
              "      <th>Unnamed: 1_level_1</th>\n",
              "      <th>Unnamed: 2_level_1</th>\n",
              "      <th>Unnamed: 3_level_1</th>\n",
              "      <th>Unnamed: 4_level_1</th>\n",
              "      <th>Unnamed: 5_level_1</th>\n",
              "      <th>Unnamed: 6_level_1</th>\n",
              "    </tr>\n",
              "  </thead>\n",
              "  <tbody>\n",
              "    <tr>\n",
              "      <th>0</th>\n",
              "      <td>Afghanistan</td>\n",
              "      <td>32.0</td>\n",
              "      <td>45.1</td>\n",
              "      <td>39.05</td>\n",
              "      <td>38.84</td>\n",
              "      <td>36.7</td>\n",
              "      <td>36.0</td>\n",
              "    </tr>\n",
              "    <tr>\n",
              "      <th>1</th>\n",
              "      <td>Albania</td>\n",
              "      <td>12.0</td>\n",
              "      <td>11.5</td>\n",
              "      <td>12.57</td>\n",
              "      <td>12.73</td>\n",
              "      <td>13.0</td>\n",
              "      <td>10.0</td>\n",
              "    </tr>\n",
              "    <tr>\n",
              "      <th>2</th>\n",
              "      <td>Algeria</td>\n",
              "      <td>24.0</td>\n",
              "      <td>24.8</td>\n",
              "      <td>24.25</td>\n",
              "      <td>23.99</td>\n",
              "      <td>20.0</td>\n",
              "      <td>22.0</td>\n",
              "    </tr>\n",
              "    <tr>\n",
              "      <th>3</th>\n",
              "      <td>Andorra</td>\n",
              "      <td>7.0</td>\n",
              "      <td>10.2</td>\n",
              "      <td>8.88</td>\n",
              "      <td>8.48</td>\n",
              "      <td>7.0</td>\n",
              "      <td>6.0</td>\n",
              "    </tr>\n",
              "    <tr>\n",
              "      <th>4</th>\n",
              "      <td>Angola</td>\n",
              "      <td>41.0</td>\n",
              "      <td>40.9</td>\n",
              "      <td>39.16</td>\n",
              "      <td>38.97</td>\n",
              "      <td>42.7</td>\n",
              "      <td>39.0</td>\n",
              "    </tr>\n",
              "  </tbody>\n",
              "</table>\n",
              "</div>\n",
              "      <button class=\"colab-df-convert\" onclick=\"convertToInteractive('df-467c45fd-9f7d-4f1a-b14c-dcf1741f1cf1')\"\n",
              "              title=\"Convert this dataframe to an interactive table.\"\n",
              "              style=\"display:none;\">\n",
              "        \n",
              "  <svg xmlns=\"http://www.w3.org/2000/svg\" height=\"24px\"viewBox=\"0 0 24 24\"\n",
              "       width=\"24px\">\n",
              "    <path d=\"M0 0h24v24H0V0z\" fill=\"none\"/>\n",
              "    <path d=\"M18.56 5.44l.94 2.06.94-2.06 2.06-.94-2.06-.94-.94-2.06-.94 2.06-2.06.94zm-11 1L8.5 8.5l.94-2.06 2.06-.94-2.06-.94L8.5 2.5l-.94 2.06-2.06.94zm10 10l.94 2.06.94-2.06 2.06-.94-2.06-.94-.94-2.06-.94 2.06-2.06.94z\"/><path d=\"M17.41 7.96l-1.37-1.37c-.4-.4-.92-.59-1.43-.59-.52 0-1.04.2-1.43.59L10.3 9.45l-7.72 7.72c-.78.78-.78 2.05 0 2.83L4 21.41c.39.39.9.59 1.41.59.51 0 1.02-.2 1.41-.59l7.78-7.78 2.81-2.81c.8-.78.8-2.07 0-2.86zM5.41 20L4 18.59l7.72-7.72 1.47 1.35L5.41 20z\"/>\n",
              "  </svg>\n",
              "      </button>\n",
              "      \n",
              "  <style>\n",
              "    .colab-df-container {\n",
              "      display:flex;\n",
              "      flex-wrap:wrap;\n",
              "      gap: 12px;\n",
              "    }\n",
              "\n",
              "    .colab-df-convert {\n",
              "      background-color: #E8F0FE;\n",
              "      border: none;\n",
              "      border-radius: 50%;\n",
              "      cursor: pointer;\n",
              "      display: none;\n",
              "      fill: #1967D2;\n",
              "      height: 32px;\n",
              "      padding: 0 0 0 0;\n",
              "      width: 32px;\n",
              "    }\n",
              "\n",
              "    .colab-df-convert:hover {\n",
              "      background-color: #E2EBFA;\n",
              "      box-shadow: 0px 1px 2px rgba(60, 64, 67, 0.3), 0px 1px 3px 1px rgba(60, 64, 67, 0.15);\n",
              "      fill: #174EA6;\n",
              "    }\n",
              "\n",
              "    [theme=dark] .colab-df-convert {\n",
              "      background-color: #3B4455;\n",
              "      fill: #D2E3FC;\n",
              "    }\n",
              "\n",
              "    [theme=dark] .colab-df-convert:hover {\n",
              "      background-color: #434B5C;\n",
              "      box-shadow: 0px 1px 3px 1px rgba(0, 0, 0, 0.15);\n",
              "      filter: drop-shadow(0px 1px 2px rgba(0, 0, 0, 0.3));\n",
              "      fill: #FFFFFF;\n",
              "    }\n",
              "  </style>\n",
              "\n",
              "      <script>\n",
              "        const buttonEl =\n",
              "          document.querySelector('#df-467c45fd-9f7d-4f1a-b14c-dcf1741f1cf1 button.colab-df-convert');\n",
              "        buttonEl.style.display =\n",
              "          google.colab.kernel.accessAllowed ? 'block' : 'none';\n",
              "\n",
              "        async function convertToInteractive(key) {\n",
              "          const element = document.querySelector('#df-467c45fd-9f7d-4f1a-b14c-dcf1741f1cf1');\n",
              "          const dataTable =\n",
              "            await google.colab.kernel.invokeFunction('convertToInteractive',\n",
              "                                                     [key], {});\n",
              "          if (!dataTable) return;\n",
              "\n",
              "          const docLinkHtml = 'Like what you see? Visit the ' +\n",
              "            '<a target=\"_blank\" href=https://colab.research.google.com/notebooks/data_table.ipynb>data table notebook</a>'\n",
              "            + ' to learn more about interactive tables.';\n",
              "          element.innerHTML = '';\n",
              "          dataTable['output_type'] = 'display_data';\n",
              "          await google.colab.output.renderOutput(dataTable, element);\n",
              "          const docLink = document.createElement('div');\n",
              "          docLink.innerHTML = docLinkHtml;\n",
              "          element.appendChild(docLink);\n",
              "        }\n",
              "      </script>\n",
              "    </div>\n",
              "  </div>\n",
              "  "
            ]
          },
          "metadata": {},
          "execution_count": 95
        }
      ]
    },
    {
      "cell_type": "code",
      "source": [
        "countries = countries.rename(columns={\"Country/territory\": 'country', \"PRB 2022 (Rate ‰)\": 'prb'})"
      ],
      "metadata": {
        "id": "2v_4Uj1N23m3"
      },
      "execution_count": 57,
      "outputs": []
    },
    {
      "cell_type": "code",
      "source": [
        "countries['prb'] > 40\n",
        "countries.loc[(countries['prb'] > 40).values,['country']]"
      ],
      "metadata": {
        "id": "ZeTmRc8CA7T8",
        "outputId": "b7f46dc5-8a51-4c0f-d595-cf375009e33a",
        "colab": {
          "base_uri": "https://localhost:8080/",
          "height": 269
        }
      },
      "execution_count": 91,
      "outputs": [
        {
          "output_type": "execute_result",
          "data": {
            "text/plain": [
              "                      country\n",
              "                      country\n",
              "32   Central African Republic\n",
              "33                       Chad\n",
              "38                   Congo DR\n",
              "107                      Mali\n",
              "127                     Niger\n",
              "160                   Somalia"
            ],
            "text/html": [
              "\n",
              "  <div id=\"df-e0276ef1-effe-4fed-b1c2-dd5edf56b1ff\">\n",
              "    <div class=\"colab-df-container\">\n",
              "      <div>\n",
              "<style scoped>\n",
              "    .dataframe tbody tr th:only-of-type {\n",
              "        vertical-align: middle;\n",
              "    }\n",
              "\n",
              "    .dataframe tbody tr th {\n",
              "        vertical-align: top;\n",
              "    }\n",
              "\n",
              "    .dataframe thead tr th {\n",
              "        text-align: left;\n",
              "    }\n",
              "</style>\n",
              "<table border=\"1\" class=\"dataframe\">\n",
              "  <thead>\n",
              "    <tr>\n",
              "      <th></th>\n",
              "      <th>country</th>\n",
              "    </tr>\n",
              "    <tr>\n",
              "      <th></th>\n",
              "      <th>country</th>\n",
              "    </tr>\n",
              "  </thead>\n",
              "  <tbody>\n",
              "    <tr>\n",
              "      <th>32</th>\n",
              "      <td>Central African Republic</td>\n",
              "    </tr>\n",
              "    <tr>\n",
              "      <th>33</th>\n",
              "      <td>Chad</td>\n",
              "    </tr>\n",
              "    <tr>\n",
              "      <th>38</th>\n",
              "      <td>Congo DR</td>\n",
              "    </tr>\n",
              "    <tr>\n",
              "      <th>107</th>\n",
              "      <td>Mali</td>\n",
              "    </tr>\n",
              "    <tr>\n",
              "      <th>127</th>\n",
              "      <td>Niger</td>\n",
              "    </tr>\n",
              "    <tr>\n",
              "      <th>160</th>\n",
              "      <td>Somalia</td>\n",
              "    </tr>\n",
              "  </tbody>\n",
              "</table>\n",
              "</div>\n",
              "      <button class=\"colab-df-convert\" onclick=\"convertToInteractive('df-e0276ef1-effe-4fed-b1c2-dd5edf56b1ff')\"\n",
              "              title=\"Convert this dataframe to an interactive table.\"\n",
              "              style=\"display:none;\">\n",
              "        \n",
              "  <svg xmlns=\"http://www.w3.org/2000/svg\" height=\"24px\"viewBox=\"0 0 24 24\"\n",
              "       width=\"24px\">\n",
              "    <path d=\"M0 0h24v24H0V0z\" fill=\"none\"/>\n",
              "    <path d=\"M18.56 5.44l.94 2.06.94-2.06 2.06-.94-2.06-.94-.94-2.06-.94 2.06-2.06.94zm-11 1L8.5 8.5l.94-2.06 2.06-.94-2.06-.94L8.5 2.5l-.94 2.06-2.06.94zm10 10l.94 2.06.94-2.06 2.06-.94-2.06-.94-.94-2.06-.94 2.06-2.06.94z\"/><path d=\"M17.41 7.96l-1.37-1.37c-.4-.4-.92-.59-1.43-.59-.52 0-1.04.2-1.43.59L10.3 9.45l-7.72 7.72c-.78.78-.78 2.05 0 2.83L4 21.41c.39.39.9.59 1.41.59.51 0 1.02-.2 1.41-.59l7.78-7.78 2.81-2.81c.8-.78.8-2.07 0-2.86zM5.41 20L4 18.59l7.72-7.72 1.47 1.35L5.41 20z\"/>\n",
              "  </svg>\n",
              "      </button>\n",
              "      \n",
              "  <style>\n",
              "    .colab-df-container {\n",
              "      display:flex;\n",
              "      flex-wrap:wrap;\n",
              "      gap: 12px;\n",
              "    }\n",
              "\n",
              "    .colab-df-convert {\n",
              "      background-color: #E8F0FE;\n",
              "      border: none;\n",
              "      border-radius: 50%;\n",
              "      cursor: pointer;\n",
              "      display: none;\n",
              "      fill: #1967D2;\n",
              "      height: 32px;\n",
              "      padding: 0 0 0 0;\n",
              "      width: 32px;\n",
              "    }\n",
              "\n",
              "    .colab-df-convert:hover {\n",
              "      background-color: #E2EBFA;\n",
              "      box-shadow: 0px 1px 2px rgba(60, 64, 67, 0.3), 0px 1px 3px 1px rgba(60, 64, 67, 0.15);\n",
              "      fill: #174EA6;\n",
              "    }\n",
              "\n",
              "    [theme=dark] .colab-df-convert {\n",
              "      background-color: #3B4455;\n",
              "      fill: #D2E3FC;\n",
              "    }\n",
              "\n",
              "    [theme=dark] .colab-df-convert:hover {\n",
              "      background-color: #434B5C;\n",
              "      box-shadow: 0px 1px 3px 1px rgba(0, 0, 0, 0.15);\n",
              "      filter: drop-shadow(0px 1px 2px rgba(0, 0, 0, 0.3));\n",
              "      fill: #FFFFFF;\n",
              "    }\n",
              "  </style>\n",
              "\n",
              "      <script>\n",
              "        const buttonEl =\n",
              "          document.querySelector('#df-e0276ef1-effe-4fed-b1c2-dd5edf56b1ff button.colab-df-convert');\n",
              "        buttonEl.style.display =\n",
              "          google.colab.kernel.accessAllowed ? 'block' : 'none';\n",
              "\n",
              "        async function convertToInteractive(key) {\n",
              "          const element = document.querySelector('#df-e0276ef1-effe-4fed-b1c2-dd5edf56b1ff');\n",
              "          const dataTable =\n",
              "            await google.colab.kernel.invokeFunction('convertToInteractive',\n",
              "                                                     [key], {});\n",
              "          if (!dataTable) return;\n",
              "\n",
              "          const docLinkHtml = 'Like what you see? Visit the ' +\n",
              "            '<a target=\"_blank\" href=https://colab.research.google.com/notebooks/data_table.ipynb>data table notebook</a>'\n",
              "            + ' to learn more about interactive tables.';\n",
              "          element.innerHTML = '';\n",
              "          dataTable['output_type'] = 'display_data';\n",
              "          await google.colab.output.renderOutput(dataTable, element);\n",
              "          const docLink = document.createElement('div');\n",
              "          docLink.innerHTML = docLinkHtml;\n",
              "          element.appendChild(docLink);\n",
              "        }\n",
              "      </script>\n",
              "    </div>\n",
              "  </div>\n",
              "  "
            ]
          },
          "metadata": {},
          "execution_count": 91
        }
      ]
    },
    {
      "cell_type": "code",
      "source": [
        "countries.info()"
      ],
      "metadata": {
        "id": "rLA2sgae2-2a",
        "outputId": "ae0c99ff-7045-483c-87e7-44cb55781033",
        "colab": {
          "base_uri": "https://localhost:8080/"
        }
      },
      "execution_count": 48,
      "outputs": [
        {
          "output_type": "stream",
          "name": "stdout",
          "text": [
            "<class 'pandas.core.frame.DataFrame'>\n",
            "RangeIndex: 238 entries, 0 to 237\n",
            "Data columns (total 7 columns):\n",
            " #   Column                                      Non-Null Count  Dtype  \n",
            "---  ------                                      --------------  -----  \n",
            " 0   (Country/territory, Country/territory)      238 non-null    object \n",
            " 1   (WB 2018 (Rate ‰), Unnamed: 1_level_1)      206 non-null    float64\n",
            " 2   (OECD 2011 (Rate ‰), Unnamed: 2_level_1)    233 non-null    float64\n",
            " 3   (CIA WF 2013 (Rate ‰), Unnamed: 3_level_1)  225 non-null    float64\n",
            " 4   (CIA WF 2014 (Rate ‰), Unnamed: 4_level_1)  225 non-null    float64\n",
            " 5   (CIA WF 2020 (Rate ‰), Unnamed: 5_level_1)  229 non-null    float64\n",
            " 6   (PRB 2022 (Rate ‰), Unnamed: 6_level_1)     202 non-null    float64\n",
            "dtypes: float64(6), object(1)\n",
            "memory usage: 13.1+ KB\n"
          ]
        }
      ]
    },
    {
      "cell_type": "code",
      "source": [
        "countries.describe()"
      ],
      "metadata": {
        "id": "E4PTT3Gh3EHJ",
        "outputId": "8f341043-1ae6-4cf1-c6b5-7e52ed91436d",
        "colab": {
          "base_uri": "https://localhost:8080/",
          "height": 332
        }
      },
      "execution_count": 5,
      "outputs": [
        {
          "output_type": "execute_result",
          "data": {
            "text/plain": [
              "        WB 2018 (Rate ‰) OECD 2011 (Rate ‰) CIA WF 2013 (Rate ‰)  \\\n",
              "      Unnamed: 1_level_1 Unnamed: 2_level_1   Unnamed: 3_level_1   \n",
              "count         206.000000         233.000000           225.000000   \n",
              "mean           19.786408          20.433820            19.862444   \n",
              "std             9.811562          10.171366             9.789472   \n",
              "min             6.000000           7.300000             6.790000   \n",
              "25%            11.000000          11.900000            11.720000   \n",
              "50%            18.000000          17.400000            17.170000   \n",
              "75%            27.000000          27.500000            25.400000   \n",
              "max            46.000000          46.000000            46.840000   \n",
              "\n",
              "      CIA WF 2014 (Rate ‰) CIA WF 2020 (Rate ‰)  PRB 2022 (Rate ‰)  \n",
              "        Unnamed: 4_level_1   Unnamed: 5_level_1 Unnamed: 6_level_1  \n",
              "count           225.000000           229.000000         202.000000  \n",
              "mean             19.665111            18.447598          19.158416  \n",
              "std               9.640117             9.324574           9.842271  \n",
              "min               6.720000             6.400000           5.000000  \n",
              "25%              11.870000            11.400000          11.000000  \n",
              "50%              16.900000            15.400000          17.000000  \n",
              "75%              24.890000            23.100000          27.000000  \n",
              "max              46.120000            47.500000          45.000000  "
            ],
            "text/html": [
              "\n",
              "  <div id=\"df-7496f58a-7f04-439c-96ec-c96c1f1c2091\">\n",
              "    <div class=\"colab-df-container\">\n",
              "      <div>\n",
              "<style scoped>\n",
              "    .dataframe tbody tr th:only-of-type {\n",
              "        vertical-align: middle;\n",
              "    }\n",
              "\n",
              "    .dataframe tbody tr th {\n",
              "        vertical-align: top;\n",
              "    }\n",
              "\n",
              "    .dataframe thead tr th {\n",
              "        text-align: left;\n",
              "    }\n",
              "</style>\n",
              "<table border=\"1\" class=\"dataframe\">\n",
              "  <thead>\n",
              "    <tr>\n",
              "      <th></th>\n",
              "      <th>WB 2018 (Rate ‰)</th>\n",
              "      <th>OECD 2011 (Rate ‰)</th>\n",
              "      <th>CIA WF 2013 (Rate ‰)</th>\n",
              "      <th>CIA WF 2014 (Rate ‰)</th>\n",
              "      <th>CIA WF 2020 (Rate ‰)</th>\n",
              "      <th>PRB 2022 (Rate ‰)</th>\n",
              "    </tr>\n",
              "    <tr>\n",
              "      <th></th>\n",
              "      <th>Unnamed: 1_level_1</th>\n",
              "      <th>Unnamed: 2_level_1</th>\n",
              "      <th>Unnamed: 3_level_1</th>\n",
              "      <th>Unnamed: 4_level_1</th>\n",
              "      <th>Unnamed: 5_level_1</th>\n",
              "      <th>Unnamed: 6_level_1</th>\n",
              "    </tr>\n",
              "  </thead>\n",
              "  <tbody>\n",
              "    <tr>\n",
              "      <th>count</th>\n",
              "      <td>206.000000</td>\n",
              "      <td>233.000000</td>\n",
              "      <td>225.000000</td>\n",
              "      <td>225.000000</td>\n",
              "      <td>229.000000</td>\n",
              "      <td>202.000000</td>\n",
              "    </tr>\n",
              "    <tr>\n",
              "      <th>mean</th>\n",
              "      <td>19.786408</td>\n",
              "      <td>20.433820</td>\n",
              "      <td>19.862444</td>\n",
              "      <td>19.665111</td>\n",
              "      <td>18.447598</td>\n",
              "      <td>19.158416</td>\n",
              "    </tr>\n",
              "    <tr>\n",
              "      <th>std</th>\n",
              "      <td>9.811562</td>\n",
              "      <td>10.171366</td>\n",
              "      <td>9.789472</td>\n",
              "      <td>9.640117</td>\n",
              "      <td>9.324574</td>\n",
              "      <td>9.842271</td>\n",
              "    </tr>\n",
              "    <tr>\n",
              "      <th>min</th>\n",
              "      <td>6.000000</td>\n",
              "      <td>7.300000</td>\n",
              "      <td>6.790000</td>\n",
              "      <td>6.720000</td>\n",
              "      <td>6.400000</td>\n",
              "      <td>5.000000</td>\n",
              "    </tr>\n",
              "    <tr>\n",
              "      <th>25%</th>\n",
              "      <td>11.000000</td>\n",
              "      <td>11.900000</td>\n",
              "      <td>11.720000</td>\n",
              "      <td>11.870000</td>\n",
              "      <td>11.400000</td>\n",
              "      <td>11.000000</td>\n",
              "    </tr>\n",
              "    <tr>\n",
              "      <th>50%</th>\n",
              "      <td>18.000000</td>\n",
              "      <td>17.400000</td>\n",
              "      <td>17.170000</td>\n",
              "      <td>16.900000</td>\n",
              "      <td>15.400000</td>\n",
              "      <td>17.000000</td>\n",
              "    </tr>\n",
              "    <tr>\n",
              "      <th>75%</th>\n",
              "      <td>27.000000</td>\n",
              "      <td>27.500000</td>\n",
              "      <td>25.400000</td>\n",
              "      <td>24.890000</td>\n",
              "      <td>23.100000</td>\n",
              "      <td>27.000000</td>\n",
              "    </tr>\n",
              "    <tr>\n",
              "      <th>max</th>\n",
              "      <td>46.000000</td>\n",
              "      <td>46.000000</td>\n",
              "      <td>46.840000</td>\n",
              "      <td>46.120000</td>\n",
              "      <td>47.500000</td>\n",
              "      <td>45.000000</td>\n",
              "    </tr>\n",
              "  </tbody>\n",
              "</table>\n",
              "</div>\n",
              "      <button class=\"colab-df-convert\" onclick=\"convertToInteractive('df-7496f58a-7f04-439c-96ec-c96c1f1c2091')\"\n",
              "              title=\"Convert this dataframe to an interactive table.\"\n",
              "              style=\"display:none;\">\n",
              "        \n",
              "  <svg xmlns=\"http://www.w3.org/2000/svg\" height=\"24px\"viewBox=\"0 0 24 24\"\n",
              "       width=\"24px\">\n",
              "    <path d=\"M0 0h24v24H0V0z\" fill=\"none\"/>\n",
              "    <path d=\"M18.56 5.44l.94 2.06.94-2.06 2.06-.94-2.06-.94-.94-2.06-.94 2.06-2.06.94zm-11 1L8.5 8.5l.94-2.06 2.06-.94-2.06-.94L8.5 2.5l-.94 2.06-2.06.94zm10 10l.94 2.06.94-2.06 2.06-.94-2.06-.94-.94-2.06-.94 2.06-2.06.94z\"/><path d=\"M17.41 7.96l-1.37-1.37c-.4-.4-.92-.59-1.43-.59-.52 0-1.04.2-1.43.59L10.3 9.45l-7.72 7.72c-.78.78-.78 2.05 0 2.83L4 21.41c.39.39.9.59 1.41.59.51 0 1.02-.2 1.41-.59l7.78-7.78 2.81-2.81c.8-.78.8-2.07 0-2.86zM5.41 20L4 18.59l7.72-7.72 1.47 1.35L5.41 20z\"/>\n",
              "  </svg>\n",
              "      </button>\n",
              "      \n",
              "  <style>\n",
              "    .colab-df-container {\n",
              "      display:flex;\n",
              "      flex-wrap:wrap;\n",
              "      gap: 12px;\n",
              "    }\n",
              "\n",
              "    .colab-df-convert {\n",
              "      background-color: #E8F0FE;\n",
              "      border: none;\n",
              "      border-radius: 50%;\n",
              "      cursor: pointer;\n",
              "      display: none;\n",
              "      fill: #1967D2;\n",
              "      height: 32px;\n",
              "      padding: 0 0 0 0;\n",
              "      width: 32px;\n",
              "    }\n",
              "\n",
              "    .colab-df-convert:hover {\n",
              "      background-color: #E2EBFA;\n",
              "      box-shadow: 0px 1px 2px rgba(60, 64, 67, 0.3), 0px 1px 3px 1px rgba(60, 64, 67, 0.15);\n",
              "      fill: #174EA6;\n",
              "    }\n",
              "\n",
              "    [theme=dark] .colab-df-convert {\n",
              "      background-color: #3B4455;\n",
              "      fill: #D2E3FC;\n",
              "    }\n",
              "\n",
              "    [theme=dark] .colab-df-convert:hover {\n",
              "      background-color: #434B5C;\n",
              "      box-shadow: 0px 1px 3px 1px rgba(0, 0, 0, 0.15);\n",
              "      filter: drop-shadow(0px 1px 2px rgba(0, 0, 0, 0.3));\n",
              "      fill: #FFFFFF;\n",
              "    }\n",
              "  </style>\n",
              "\n",
              "      <script>\n",
              "        const buttonEl =\n",
              "          document.querySelector('#df-7496f58a-7f04-439c-96ec-c96c1f1c2091 button.colab-df-convert');\n",
              "        buttonEl.style.display =\n",
              "          google.colab.kernel.accessAllowed ? 'block' : 'none';\n",
              "\n",
              "        async function convertToInteractive(key) {\n",
              "          const element = document.querySelector('#df-7496f58a-7f04-439c-96ec-c96c1f1c2091');\n",
              "          const dataTable =\n",
              "            await google.colab.kernel.invokeFunction('convertToInteractive',\n",
              "                                                     [key], {});\n",
              "          if (!dataTable) return;\n",
              "\n",
              "          const docLinkHtml = 'Like what you see? Visit the ' +\n",
              "            '<a target=\"_blank\" href=https://colab.research.google.com/notebooks/data_table.ipynb>data table notebook</a>'\n",
              "            + ' to learn more about interactive tables.';\n",
              "          element.innerHTML = '';\n",
              "          dataTable['output_type'] = 'display_data';\n",
              "          await google.colab.output.renderOutput(dataTable, element);\n",
              "          const docLink = document.createElement('div');\n",
              "          docLink.innerHTML = docLinkHtml;\n",
              "          element.appendChild(docLink);\n",
              "        }\n",
              "      </script>\n",
              "    </div>\n",
              "  </div>\n",
              "  "
            ]
          },
          "metadata": {},
          "execution_count": 5
        }
      ]
    }
  ],
  "metadata": {
    "kernelspec": {
      "display_name": "venv_pythondb",
      "language": "python",
      "name": "python3"
    },
    "language_info": {
      "codemirror_mode": {
        "name": "ipython",
        "version": 3
      },
      "file_extension": ".py",
      "mimetype": "text/x-python",
      "name": "python",
      "nbconvert_exporter": "python",
      "pygments_lexer": "ipython3",
      "version": "3.9.2"
    },
    "orig_nbformat": 4,
    "colab": {
      "provenance": []
    }
  },
  "nbformat": 4,
  "nbformat_minor": 0
}